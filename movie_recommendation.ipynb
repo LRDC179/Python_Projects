{
 "cells": [
  {
   "cell_type": "code",
   "execution_count": 1,
   "id": "92af0b98-331d-4fd3-9e44-88251c998dd8",
   "metadata": {},
   "outputs": [],
   "source": [
    "#Import modules\n",
    "\n",
    "import pandas as pd\n",
    "import numpy as np\n",
    "from sklearn.metrics.pairwise import cosine_similarity "
   ]
  },
  {
   "cell_type": "code",
   "execution_count": 3,
   "id": "418ef9fd-944a-44a2-b3ae-876573ba43eb",
   "metadata": {},
   "outputs": [
    {
     "name": "stdout",
     "output_type": "stream",
     "text": [
      "Top 5 rated movies:\n",
      "title\n",
      "Star Wars (1977)             583\n",
      "Contact (1997)               509\n",
      "Fargo (1996)                 508\n",
      "Return of the Jedi (1983)    507\n",
      "Liar Liar (1997)             485\n",
      "Name: rating, dtype: int64\n"
     ]
    }
   ],
   "source": [
    "# Load ratings data\n",
    "ratings = pd.read_csv('u.data', sep='\\t', \n",
    "                      names=['user_id', 'movie_id', 'rating', 'timestamp'])\n",
    "\n",
    "# Load movie titles\n",
    "movies = pd.read_csv('u.item', sep='|', encoding='latin-1', #Handles special characters in movie titles\n",
    "                     names=['movie_id', 'title'], usecols=[0,1] #only loads the first two columns\n",
    "                    )\n",
    "\n",
    "# Merge data\n",
    "df = pd.merge(ratings, movies, on='movie_id')\n",
    "'''Uses an inner join by default (only movies \n",
    "present in both datasets are kept)'''\n",
    "\n",
    "# Explore\n",
    "print(\"Top 5 rated movies:\")\n",
    "# Displays most popular movies in descending order\n",
    "print(df.groupby('title')['rating'].count().sort_values(ascending=False).head())"
   ]
  },
  {
   "cell_type": "code",
   "execution_count": 4,
   "id": "1de67759-218b-4ac4-b1fc-634590ce74b7",
   "metadata": {},
   "outputs": [
    {
     "name": "stdout",
     "output_type": "stream",
     "text": [
      "Matrix shape: (943, 1664)\n"
     ]
    }
   ],
   "source": [
    "# Pivot table (fill missing with 0)\n",
    "user_movie_matrix = df.pivot_table(\n",
    "    index='user_id', \n",
    "    columns='title', \n",
    "    values='rating', \n",
    "    fill_value=0\n",
    ")\n",
    "\n",
    "print(\"Matrix shape:\", user_movie_matrix.shape)"
   ]
  },
  {
   "cell_type": "code",
   "execution_count": 5,
   "id": "2d36fd17-b2fd-4dde-8481-a05b69b40f44",
   "metadata": {},
   "outputs": [],
   "source": [
    "# Compute similarity between MOVIES (columns)\n",
    "movie_similarity = cosine_similarity(user_movie_matrix.T)  # Transpose to movie-user\n",
    "'''Cosine Similarity measures how similar two movies’ rating \n",
    "patterns are (0 = no similarity, 1 = identical).'''\n",
    "# Convert to DataFrame\n",
    "movie_similarity_df = pd.DataFrame(\n",
    "    movie_similarity,\n",
    "    index=user_movie_matrix.columns,  # Movie titles as index\n",
    "    columns=user_movie_matrix.columns\n",
    ")"
   ]
  },
  {
   "cell_type": "code",
   "execution_count": 6,
   "id": "a1f9f69e-c7e8-416c-b9fa-1b24ca454beb",
   "metadata": {},
   "outputs": [],
   "source": [
    "def recommend_movies(movie_title, num_recommendations=5):\n",
    "    # Get similarity scores for the movie\n",
    "    similar_scores = movie_similarity_df[movie_title]\n",
    "    \n",
    "    # Sort by score (descending)\n",
    "    similar_movies = similar_scores.sort_values(ascending=False)\n",
    "    \n",
    "    # Exclude the input movie itself & return top N\n",
    "    return similar_movies[1:num_recommendations+1].index.tolist()"
   ]
  },
  {
   "cell_type": "code",
   "execution_count": 7,
   "id": "512275cc-aebb-4632-97c0-618e5a7e6f97",
   "metadata": {},
   "outputs": [
    {
     "name": "stdout",
     "output_type": "stream",
     "text": [
      "Recommendations for 'Toy Story (1995)':\n",
      "['Star Wars (1977)', 'Return of the Jedi (1983)', 'Independence Day (ID4) (1996)', 'Rock, The (1996)', 'Mission: Impossible (1996)']\n"
     ]
    }
   ],
   "source": [
    "# Example: Get recommendations for \"Toy Story (1995)\"\n",
    "print(\"Recommendations for 'Toy Story (1995)':\")\n",
    "print(recommend_movies('Toy Story (1995)', num_recommendations=5))"
   ]
  },
  {
   "cell_type": "code",
   "execution_count": null,
   "id": "ee62c78d-f5fa-47e1-99c2-ad56753dcb0e",
   "metadata": {},
   "outputs": [],
   "source": []
  }
 ],
 "metadata": {
  "kernelspec": {
   "display_name": "anaconda-panel-2023.05-py310",
   "language": "python",
   "name": "conda-env-anaconda-panel-2023.05-py310-py"
  },
  "language_info": {
   "codemirror_mode": {
    "name": "ipython",
    "version": 3
   },
   "file_extension": ".py",
   "mimetype": "text/x-python",
   "name": "python",
   "nbconvert_exporter": "python",
   "pygments_lexer": "ipython3",
   "version": "3.11.5"
  }
 },
 "nbformat": 4,
 "nbformat_minor": 5
}
